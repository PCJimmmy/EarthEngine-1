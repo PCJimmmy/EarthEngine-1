{
  "nbformat": 4,
  "nbformat_minor": 0,
  "metadata": {
    "colab": {
      "name": "Exercise2_multispectral_analysis.ipynb",
      "provenance": []
    },
    "kernelspec": {
      "name": "python3",
      "display_name": "Python 3"
    }
  },
  "cells": [
    {
      "cell_type": "markdown",
      "metadata": {
        "id": "f_IUtT2ruIsD",
        "colab_type": "text"
      },
      "source": [
        "<h1 align=\"center\"> Google Earth Engine Python API Introductory Tutorial 2 </h1>\n",
        "\n",
        "<p align=\"center\"> **Author** : Ritu Anilkumar</p> \n",
        "\n",
        "<p align=\"center\"> Updated on 14 January 2020 </p>\n",
        "\n",
        "In this exercise, we will access Sentinel 2 imagery, filter it based on our Area of Interest (AOI) and date range of our interest. We will also learn to visualize the multispectral data. Next, we will create a modified normalized difference water index and threshold it to generate a map of water bodies. "
      ]
    },
    {
      "cell_type": "markdown",
      "metadata": {
        "id": "_RECVBps3w9H",
        "colab_type": "text"
      },
      "source": [
        "<p align=\"justify\"> The data used in this exercise was captured by the Sentinel 2 sensor bands given by: </p>\n",
        "\n",
        "><p align=\"center\">Band|<p align=\"center\">Wavelength|<p align=\"center\">Description\n",
        ">------|------|------\n",
        "><p align=\"center\">B1|<p align=\"center\">443.9nm|<p align=\"center\">Aerosol\n",
        "><p align=\"center\">B2|<p align=\"center\">496.6nm|<p align=\"center\">Blue\n",
        "><p align=\"center\">B3|<p align=\"center\">560nm|<p align=\"center\">Green\n",
        "><p align=\"center\">B4|<p align=\"center\">664.5nm|<p align=\"center\">Red\n",
        "><p align=\"center\">B5|<p align=\"center\">\t703.9|<p align=\"center\">Red Edge 1\n",
        "><p align=\"center\">B6|<p align=\"center\">740.2nm|<p align=\"center\">Red Edge 2\n",
        "><p align=\"center\">B7|<p align=\"center\">782.5nm|<p align=\"center\">Red Edge 3\n",
        "><p align=\"center\">B8|<p align=\"center\">835.1nm|<p align=\"center\">Near Infra-Red\n",
        "><p align=\"center\">B8A|<p align=\"center\">864.8nm|<p align=\"center\">Red Edge 4\n",
        "><p align=\"center\">B9|<p align=\"center\">\t945nm|<p align=\"center\">Cirrus\n",
        "><p align=\"center\">B10|<p align=\"center\">\t1373.5nm|<p align=\"center\">Cirrus\n",
        "><p align=\"center\">B11|<p align=\"center\">1613.7nm|<p align=\"center\">Short Wave Infra-Red 1\n",
        "><p align=\"center\">B12|<p align=\"center\">2202.4nm|<p align=\"center\">Short Wave Infra-Red 2\n",
        "\n",
        "Let's explore the dataset using Earth Engine! The first step as always is importing and initilializing Google Earth Engine."
      ]
    },
    {
      "cell_type": "code",
      "metadata": {
        "id": "1Oirgxq5tYU7",
        "colab_type": "code",
        "colab": {
          "base_uri": "https://localhost:8080/",
          "height": 171
        },
        "outputId": "f8dc2fe1-9342-488c-9147-a6f6060257a9"
      },
      "source": [
        "# Import the earth engine library and authenticate with your credentials\n",
        "import ee\n",
        "ee.Authenticate()\n",
        "ee.Initialize()"
      ],
      "execution_count": 1,
      "outputs": [
        {
          "output_type": "stream",
          "text": [
            "To authorize access needed by Earth Engine, open the following URL in a web browser and follow the instructions. If the web browser does not start automatically, please manually browse the URL below.\n",
            "\n",
            "    https://accounts.google.com/o/oauth2/auth?client_id=517222506229-vsmmajv00ul0bs7p89v5m89qs8eb9359.apps.googleusercontent.com&scope=https%3A%2F%2Fwww.googleapis.com%2Fauth%2Fearthengine+https%3A%2F%2Fwww.googleapis.com%2Fauth%2Fdevstorage.full_control&redirect_uri=urn%3Aietf%3Awg%3Aoauth%3A2.0%3Aoob&response_type=code\n",
            "\n",
            "The authorization workflow will generate a code, which you should paste in the box below. \n",
            "Enter verification code: 4/vQEmoKIGxMOwCwWX9KzBJrOe5pIuq3J4mYqMEZBx7H5YEXMBbfFMRSA\n",
            "\n",
            "Successfully saved authorization token.\n"
          ],
          "name": "stdout"
        }
      ]
    },
    {
      "cell_type": "markdown",
      "metadata": {
        "id": "7e0Dd1C7vkr8",
        "colab_type": "text"
      },
      "source": [
        "Next, we will access the Sentinel 2 dataset. This is stored in 'COPERNICUS/S2'."
      ]
    },
    {
      "cell_type": "code",
      "metadata": {
        "id": "eKrufOJ8yX7k",
        "colab_type": "code",
        "colab": {}
      },
      "source": [
        "# Create a variable containing the location of our area of interest\n",
        "loc=ee.Geometry.Point(91.17683945531849,26.17017283511727)"
      ],
      "execution_count": 0,
      "outputs": []
    },
    {
      "cell_type": "code",
      "metadata": {
        "id": "WUFI9GFGwN7q",
        "colab_type": "code",
        "colab": {
          "base_uri": "https://localhost:8080/",
          "height": 34
        },
        "outputId": "1069bd97-6027-4cf2-9ce9-8139b6659e7e"
      },
      "source": [
        "im_col=ee.ImageCollection('COPERNICUS/S2').filterBounds(loc).filterDate(ee.Date('2018-01-01'),ee.Date('2018-12-31'))\n",
        "num_im=im_col.size()\n",
        "print(num_im.getInfo())"
      ],
      "execution_count": 45,
      "outputs": [
        {
          "output_type": "stream",
          "text": [
            "140\n"
          ],
          "name": "stdout"
        }
      ]
    },
    {
      "cell_type": "markdown",
      "metadata": {
        "id": "fr4kCGE9yEWE",
        "colab_type": "text"
      },
      "source": [
        "Let's try to filter only those images with cloudy pixels less than 2% of its total area."
      ]
    },
    {
      "cell_type": "code",
      "metadata": {
        "id": "NHaXs5kgy8Gc",
        "colab_type": "code",
        "colab": {
          "base_uri": "https://localhost:8080/",
          "height": 34
        },
        "outputId": "509ae9ea-2a99-4edd-bac1-28d5a9b2e828"
      },
      "source": [
        "im_col=im_col.filterMetadata('CLOUDY_PIXEL_PERCENTAGE','less_than',2).sort('CLOUDY_PIXEL_PERCENTAGE',True)\n",
        "num_im=im_col.size()\n",
        "print(num_im.getInfo())"
      ],
      "execution_count": 46,
      "outputs": [
        {
          "output_type": "stream",
          "text": [
            "15\n"
          ],
          "name": "stdout"
        }
      ]
    },
    {
      "cell_type": "markdown",
      "metadata": {
        "id": "KXhlDSbZz4XN",
        "colab_type": "text"
      },
      "source": [
        "Now, let's try to visualize these bands. We saw in the previous exercise about three ways of visualizing. For this, we will stick to thumbnail displays."
      ]
    },
    {
      "cell_type": "code",
      "metadata": {
        "id": "e1kIhHsczIiG",
        "colab_type": "code",
        "colab": {}
      },
      "source": [
        "im=im_col.first()"
      ],
      "execution_count": 0,
      "outputs": []
    },
    {
      "cell_type": "code",
      "metadata": {
        "id": "qN3YUvR612QW",
        "colab_type": "code",
        "colab": {
          "base_uri": "https://localhost:8080/",
          "height": 533
        },
        "outputId": "c6b91de2-8b98-48b8-d5b2-07c3b36d517d"
      },
      "source": [
        "from IPython.display import Image\n",
        "Image(url=im.getThumbUrl({'min': 0, 'max': 4000, 'dimensions': 512, 'bands':['B8','B4','B2']}))"
      ],
      "execution_count": 48,
      "outputs": [
        {
          "output_type": "execute_result",
          "data": {
            "text/html": [
              "<img src=\"https://earthengine.googleapis.com/v1alpha/projects/earthengine-legacy/thumbnails/01a93184dc1944b8ac1ff17d8c600761-d735210e4064c91036edf12547766437:getPixels\"/>"
            ],
            "text/plain": [
              "<IPython.core.display.Image object>"
            ]
          },
          "metadata": {
            "tags": []
          },
          "execution_count": 48
        }
      ]
    },
    {
      "cell_type": "markdown",
      "metadata": {
        "id": "qPZHrGHQ7bZg",
        "colab_type": "text"
      },
      "source": [
        "Try to modify the cloud cover percentage values and the sorting to True or False. Try to visualize the true color composite."
      ]
    },
    {
      "cell_type": "markdown",
      "metadata": {
        "id": "08Z4E7nI8Gyw",
        "colab_type": "text"
      },
      "source": [
        "Next, we will try to create spectral indices. For this study, we will try to generate the modified normalized difference water index. This is given by the formula:\n",
        "$$mNDWI = \\frac{Green-SWIR}{Green+SWIR}$$\n",
        "\n",
        "For those who generally use NDWI given by\n",
        "$$mNDWI = \\frac{Green-NIR}{Green+NIR}$$\n",
        "We use the mNDWI which is reported to give better results because it has been oticed that NDWI constantly misclassifies urban pixels as water due to similar normalized difference values. The SWIR absorption of water is also significantly stronger than the NIR characteristics and hence we go with mNDWI"
      ]
    },
    {
      "cell_type": "code",
      "metadata": {
        "id": "kIksTH1F2NOR",
        "colab_type": "code",
        "colab": {}
      },
      "source": [
        "# Function to return the image with a mNDWI band appended\n",
        "def addmNDWI(image):\n",
        "  Green=image.select('B3')\n",
        "  SWIR=image.select('B11')\n",
        "  mNDWI=image.expression('((B1-B2)/(B1+B2))',{'B1':Green,'B2':SWIR}).rename('mNDWI')\n",
        "  image=image.addBands(mNDWI)\n",
        "  return image"
      ],
      "execution_count": 0,
      "outputs": []
    },
    {
      "cell_type": "code",
      "metadata": {
        "id": "0RBGoLfG9ihv",
        "colab_type": "code",
        "colab": {
          "base_uri": "https://localhost:8080/",
          "height": 70
        },
        "outputId": "e6c6c3fa-8d3d-440e-f9db-46e152767862"
      },
      "source": [
        "# Calling the function\n",
        "print('Bandnames of the original image are',im.bandNames().getInfo())\n",
        "mNDWI_im=addmNDWI(im)\n",
        "print('Bandnames of the image with added mNDWI are',mNDWI_im.bandNames().getInfo())"
      ],
      "execution_count": 50,
      "outputs": [
        {
          "output_type": "stream",
          "text": [
            "Bandnames of the original image are ['B1', 'B2', 'B3', 'B4', 'B5', 'B6', 'B7', 'B8', 'B8A', 'B9', 'B10', 'B11', 'B12', 'QA10', 'QA20', 'QA60']\n",
            "Bandnames of the image with added mNDWI are ['B1', 'B2', 'B3', 'B4', 'B5', 'B6', 'B7', 'B8', 'B8A', 'B9', 'B10', 'B11', 'B12', 'QA10', 'QA20', 'QA60', 'mNDWI']\n"
          ],
          "name": "stdout"
        }
      ]
    },
    {
      "cell_type": "markdown",
      "metadata": {
        "id": "Jh_5NPBw-qLo",
        "colab_type": "text"
      },
      "source": [
        "Next, let's threshold the mNDWI image and generate a water-not water map"
      ]
    },
    {
      "cell_type": "code",
      "metadata": {
        "id": "0biQ7roO99YV",
        "colab_type": "code",
        "colab": {
          "base_uri": "https://localhost:8080/",
          "height": 533
        },
        "outputId": "88bc150a-7507-4cb0-cef6-87bff5fea034"
      },
      "source": [
        "mNDWI=mNDWI_im.select('mNDWI')\n",
        "mask_im=mNDWI.lte(0.22)\n",
        "Image(url=mask_im.getThumbUrl({'min': 0, 'max': 1, 'dimensions': 512, 'palette':['black','white']}))"
      ],
      "execution_count": 51,
      "outputs": [
        {
          "output_type": "execute_result",
          "data": {
            "text/html": [
              "<img src=\"https://earthengine.googleapis.com/v1alpha/projects/earthengine-legacy/thumbnails/a84fb9ebe874ecb9c6ffe1b0c4750a57-fa7e67f1d70655c6fd96b47739ad1ddc:getPixels\"/>"
            ],
            "text/plain": [
              "<IPython.core.display.Image object>"
            ]
          },
          "metadata": {
            "tags": []
          },
          "execution_count": 51
        }
      ]
    }
  ]
}